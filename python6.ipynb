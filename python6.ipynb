{
  "nbformat": 4,
  "nbformat_minor": 0,
  "metadata": {
    "colab": {
      "provenance": []
    },
    "kernelspec": {
      "name": "python3",
      "display_name": "Python 3"
    },
    "language_info": {
      "name": "python"
    }
  },
  "cells": [
    {
      "cell_type": "code",
      "execution_count": null,
      "metadata": {
        "id": "GcpFr_iqwUbe"
      },
      "outputs": [],
      "source": [
        "num1 = int(input(\"Enter first number: \"))\n",
        "num2 = int(input(\"Enter second number: \"))\n",
        "print(\"Choose opearation\")\n",
        "print(\"1. Addition (+)\")\n",
        "print(\"2. Subtraction (-)\")\n",
        "print(\"3. Multiplication(*)\")\n",
        "print(\"4. Division (/)\")\n",
        "while True :\n",
        "  choice = input(\"Enter choice(1/2/3/4): \")\n",
        "  if choice !"
      ]
    },
    {
      "cell_type": "code",
      "source": [
        "while True :\n",
        "    num1 = int(input(\"Enter first number: \"))\n",
        "    num2 = int(input(\"Enter second number: \"))\n",
        "    print(\"Choose opearation\")\n",
        "    print(\"1. Addition (+)\")\n",
        "    print(\"2. Subtraction (-)\")\n",
        "    print(\"3. Multiplication(*)\")\n",
        "    print(\"4. Division (/)\")\n",
        "    choice = input(\"Enter choice(1/2/3/4): \")\n",
        "    if choice == '1' :\n",
        "        print(num1 + num2)\n",
        "    elif choice == '2' :\n",
        "        print(num1 - num2)\n",
        "    elif choice == '3' :\n",
        "        print(num1 * num2)\n",
        "    elif choice == '4' :\n",
        "        print(num1 / num2)\n",
        "    again = input(\"\\ndo you want to continue?(yes/no):\")\n",
        "    if again.lower() != \"yes\" :\n",
        "        break\n"
      ],
      "metadata": {
        "colab": {
          "base_uri": "https://localhost:8080/"
        },
        "id": "6jNHZssJxlfv",
        "outputId": "96c88282-ac97-4c1a-8c33-5779ccbc369f"
      },
      "execution_count": null,
      "outputs": [
        {
          "output_type": "stream",
          "name": "stdout",
          "text": [
            "Enter first number: 5\n",
            "Enter second number: 7\n",
            "Choose opearation\n",
            "1. Addition (+)\n",
            "2. Subtraction (-)\n",
            "3. Multiplication(*)\n",
            "4. Division (/)\n",
            "Enter choice(1/2/3/4): 1\n",
            "12\n",
            "\n",
            "do you want to continue?(yes/no):yes\n",
            "Enter first number: 4\n",
            "Enter second number: 9\n",
            "Choose opearation\n",
            "1. Addition (+)\n",
            "2. Subtraction (-)\n",
            "3. Multiplication(*)\n",
            "4. Division (/)\n",
            "Enter choice(1/2/3/4): 4\n",
            "0.4444444444444444\n"
          ]
        }
      ]
    }
  ]
}